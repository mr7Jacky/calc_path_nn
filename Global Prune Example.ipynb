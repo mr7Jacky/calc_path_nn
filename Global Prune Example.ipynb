{
 "cells": [
  {
   "cell_type": "code",
   "execution_count": 1,
   "id": "bc650dc7",
   "metadata": {},
   "outputs": [],
   "source": [
    "from shrinkbench import strategies\n",
    "from shrinkbench.strategies.utils import *\n",
    "from shrinkbench.experiment import PruningExperiment, PruningClass\n",
    "from shrinkbench.pruning import VisionPruning\n",
    "import numpy as np\n",
    "import sys\n",
    "np.set_printoptions(threshold=1000)\n",
    "import os\n",
    "\n",
    "os.environ['DATAPATH'] = './shrinkbench/Training_data'\n",
    "os.environ[\"ShrinkPATH\"] = './shrinkbench'\n"
   ]
  },
  {
   "cell_type": "code",
   "execution_count": 2,
   "id": "6d464f04",
   "metadata": {},
   "outputs": [
    {
     "name": "stdout",
     "output_type": "stream",
     "text": [
      "\u001b[92mGPU NOT AVAILABLE, USING CPU!\n",
      "\u001b[0m\u001b[92mGPU NOT AVAILABLE, USING CPU!\n",
      "\u001b[0m"
     ]
    }
   ],
   "source": [
    "exp = PruningClass(dataset='MNIST',model='LeNet',\\\n",
    "                   train_kwargs={'optim': 'SGD',\n",
    "                                'epochs': 30,\n",
    "                                'lr': 1e-2},\\\n",
    "                   dl_kwargs={'batch_size':64})"
   ]
  },
  {
   "cell_type": "code",
   "execution_count": 15,
   "id": "cc38c71c",
   "metadata": {},
   "outputs": [
    {
     "name": "stdout",
     "output_type": "stream",
     "text": [
      "Parameter containing:\n",
      "tensor([[ 0.0332, -0.0167, -0.0232,  ..., -0.0167,  0.0185, -0.0405],\n",
      "        [ 0.0289,  0.0206,  0.0074,  ...,  0.0173, -0.0387, -0.0299],\n",
      "        [-0.0161,  0.0079,  0.0038,  ...,  0.0375, -0.0246,  0.0362],\n",
      "        ...,\n",
      "        [-0.0086,  0.0372,  0.0484,  ...,  0.0130, -0.0315,  0.0295],\n",
      "        [ 0.0024, -0.0251, -0.0258,  ..., -0.0103, -0.0377,  0.0340],\n",
      "        [-0.0104,  0.0307, -0.0347,  ...,  0.0225, -0.0481,  0.0492]],\n",
      "       requires_grad=True)\n"
     ]
    }
   ],
   "source": [
    "exp.compression = 4\n",
    "exp.strategy = \"GlobalMagWeight\"\n",
    "print(list(exp.model.fc1.named_parameters())[0][1])"
   ]
  },
  {
   "cell_type": "code",
   "execution_count": 17,
   "id": "2c18ddcb-0886-4171-9772-4ebe3703fa7f",
   "metadata": {},
   "outputs": [
    {
     "name": "stdout",
     "output_type": "stream",
     "text": [
      "\u001b[92mGPU NOT AVAILABLE, USING CPU!\n",
      "\u001b[0m\u001b[92mGPU NOT AVAILABLE, USING CPU!\n",
      "\u001b[0mtensor(0)\n",
      "\u001b[92mGPU NOT AVAILABLE, USING CPU!\n",
      "\u001b[0m\u001b[92mGPU NOT AVAILABLE, USING CPU!\n",
      "\u001b[0mtensor(0)\n",
      "\u001b[92mGPU NOT AVAILABLE, USING CPU!\n",
      "\u001b[0m\u001b[92mGPU NOT AVAILABLE, USING CPU!\n",
      "\u001b[0mtensor(0)\n",
      "\u001b[92mGPU NOT AVAILABLE, USING CPU!\n",
      "\u001b[0m\u001b[92mGPU NOT AVAILABLE, USING CPU!\n",
      "\u001b[0mtensor(0)\n",
      "\u001b[92mGPU NOT AVAILABLE, USING CPU!\n",
      "\u001b[0m\u001b[92mGPU NOT AVAILABLE, USING CPU!\n",
      "\u001b[0mtensor(0)\n",
      "\u001b[92mGPU NOT AVAILABLE, USING CPU!\n",
      "\u001b[0m\u001b[92mGPU NOT AVAILABLE, USING CPU!\n",
      "\u001b[0mtensor(0)\n",
      "\u001b[92mGPU NOT AVAILABLE, USING CPU!\n",
      "\u001b[0m\u001b[92mGPU NOT AVAILABLE, USING CPU!\n",
      "\u001b[0mtensor(0)\n",
      "\u001b[92mGPU NOT AVAILABLE, USING CPU!\n",
      "\u001b[0m\u001b[92mGPU NOT AVAILABLE, USING CPU!\n",
      "\u001b[0mtensor(0)\n",
      "\u001b[92mGPU NOT AVAILABLE, USING CPU!\n",
      "\u001b[0m\u001b[92mGPU NOT AVAILABLE, USING CPU!\n",
      "\u001b[0mtensor(0)\n",
      "\u001b[92mGPU NOT AVAILABLE, USING CPU!\n",
      "\u001b[0m\u001b[92mGPU NOT AVAILABLE, USING CPU!\n",
      "\u001b[0mtensor(0)\n"
     ]
    }
   ],
   "source": [
    "cur = None\n",
    "prev = list(exp.model.fc1.named_parameters())[0][1]\n",
    "for i in range(10):\n",
    "    exp = PruningClass(dataset='MNIST',model='LeNet',\\\n",
    "                       train_kwargs={'optim': 'SGD',\n",
    "                                    'epochs': 30,\n",
    "                                    'lr': 1e-2},\\\n",
    "                       dl_kwargs={'batch_size':64})\n",
    "    exp.compression = 4\n",
    "    exp.strategy = \"GlobalMagWeight\"\n",
    "    cur = list(exp.model.fc1.named_parameters())[0][1]\n",
    "    print((cur == prev).sum().sum())"
   ]
  },
  {
   "cell_type": "markdown",
   "id": "daa72050-928c-46a9-b80e-24e72cb3841e",
   "metadata": {
    "jp-MarkdownHeadingCollapsed": true,
    "tags": []
   },
   "source": [
    "## Mag\n",
    "\n",
    "#### 4\n",
    "0.0076369313 1.0747899\n",
    "layer: Conv2d(1, 6, kernel_size=(3, 3), stride=(1, 1))\n",
    " Pruned 9.26%\n",
    "0.0009023389 0.8526742\n",
    "layer: Conv2d(6, 16, kernel_size=(3, 3), stride=(1, 1))\n",
    " Pruned 30.09%\n",
    "4.36784e-06 0.46501988\n",
    "layer: Linear(in_features=400, out_features=120, bias=True)\n",
    " Pruned 80.87%\n",
    "9.057046e-06 0.38313657\n",
    "layer: Linear(in_features=120, out_features=84, bias=True)\n",
    " Pruned 57.44%\n",
    "Pruned 76.06%\n",
    "#### 50\n",
    "layer: Conv2d(1, 6, kernel_size=(3, 3), stride=(1, 1))\n",
    " Pruned 33.33%\n",
    " \n",
    "layer: Conv2d(6, 16, kernel_size=(3, 3), stride=(1, 1))\n",
    " Pruned 67.25%\n",
    " \n",
    "layer: Linear(in_features=400, out_features=120, bias=True)\n",
    " Pruned 100.00%\n",
    " \n",
    "layer: Linear(in_features=120, out_features=84, bias=True)\n",
    " Pruned 99.77%\n",
    " "
   ]
  },
  {
   "cell_type": "markdown",
   "id": "50c6b3be-5b7b-45c7-b680-f559aedfabd1",
   "metadata": {},
   "source": [
    "## Flow\n",
    "#### 4\n",
    "layer: Conv2d(1, 6, kernel_size=(3, 3), stride=(1, 1))\n",
    " Pruned 0.00%\n",
    "0.23363075 468.76978\n",
    "layer: Conv2d(6, 16, kernel_size=(3, 3), stride=(1, 1))\n",
    " Pruned 0.35%\n",
    "2.7489502e-06 1.918347\n",
    "layer: Linear(in_features=400, out_features=120, bias=True)\n",
    " Pruned 72.42%\n",
    "6.8722807e-06 0.3541908\n",
    "layer: Linear(in_features=120, out_features=84, bias=True)\n",
    " Pruned 99.88%\n",
    "Pruned 75.99%\n",
    "\n",
    "    "
   ]
  },
  {
   "cell_type": "markdown",
   "id": "9e91a5de-6c39-4bd7-9e72-0d71dafaadb5",
   "metadata": {},
   "source": [
    "#### 50 \n",
    "layer: Conv2d(1, 6, kernel_size=(3, 3), stride=(1, 1))\n",
    " Pruned 29.63%\n",
    "    \n",
    "layer: Conv2d(6, 16, kernel_size=(3, 3), stride=(1, 1))\n",
    " Pruned 70.14%\n",
    "    \n",
    "layer: Linear(in_features=400, out_features=120, bias=True)\n",
    " Pruned 100.00%\n",
    "    \n",
    "layer: Linear(in_features=120, out_features=84, bias=True)\n",
    " Pruned 99.46%\n",
    "    "
   ]
  },
  {
   "cell_type": "code",
   "execution_count": null,
   "id": "0a8f36eb-5419-492e-a907-5cf1a117b1ac",
   "metadata": {},
   "outputs": [],
   "source": []
  }
 ],
 "metadata": {
  "kernelspec": {
   "display_name": "Python 3 (ipykernel)",
   "language": "python",
   "name": "python3"
  },
  "language_info": {
   "codemirror_mode": {
    "name": "ipython",
    "version": 3
   },
   "file_extension": ".py",
   "mimetype": "text/x-python",
   "name": "python",
   "nbconvert_exporter": "python",
   "pygments_lexer": "ipython3",
   "version": "3.9.2"
  }
 },
 "nbformat": 4,
 "nbformat_minor": 5
}
