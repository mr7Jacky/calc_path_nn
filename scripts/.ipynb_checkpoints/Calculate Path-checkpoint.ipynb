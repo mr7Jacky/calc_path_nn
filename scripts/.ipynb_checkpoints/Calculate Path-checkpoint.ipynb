{
 "cells": [
  {
   "cell_type": "markdown",
   "id": "3f340123-9870-4368-a787-8c74584b1e72",
   "metadata": {
    "tags": []
   },
   "source": [
    "## Load the model"
   ]
  },
  {
   "cell_type": "code",
   "execution_count": null,
   "id": "3ab1c2e3-98ac-456b-817d-0a3a14677d57",
   "metadata": {},
   "outputs": [],
   "source": [
    "%matplotlib widget\n",
    "import matplotlib.pyplot as plt\n",
    "import numpy as np\n",
    "import pandas as pd\n",
    "from pathcal.calculator import *\n",
    "from pathcal.loader import *\n",
    "from pathcal.layers import * "
   ]
  },
  {
   "cell_type": "code",
   "execution_count": 2,
   "id": "90cc3e1f-7e3e-4f76-b122-78d917ef3010",
   "metadata": {},
   "outputs": [
    {
     "name": "stdout",
     "output_type": "stream",
     "text": [
      "\u001b[92mGPU AVAILABLE\n",
      "\u001b[0m\u001b[92mGPU AVAILABLE\n",
      "\u001b[0m\u001b[95mLogging results to results/20220203-190942-ZRF1-LeNet\n",
      "\u001b[0m"
     ]
    },
    {
     "name": "stderr",
     "output_type": "stream",
     "text": [
      "Val -1/30: 100%|████████████████████████████████████| 79/79 [00:03<00:00, 22.35it/s, loss=0.018, top1=0.102, top5=0.529]\n"
     ]
    }
   ],
   "source": [
    "exp = load_expriment()"
   ]
  },
  {
   "cell_type": "code",
   "execution_count": 26,
   "id": "f1c2f2f8-b74a-41f7-ab38-682ea03d58e7",
   "metadata": {},
   "outputs": [],
   "source": [
    "compression_rates = [4, 10, 20, 30, 40, 50]\n",
    "models = [i for i in range(10)]"
   ]
  },
  {
   "cell_type": "markdown",
   "id": "83c3fddf-1090-415d-8a0d-83ed0018e484",
   "metadata": {
    "tags": []
   },
   "source": [
    "## Calculate actual paths"
   ]
  },
  {
   "cell_type": "code",
   "execution_count": 27,
   "id": "968098a6-38a5-4ef8-bb15-14f084a17fa8",
   "metadata": {},
   "outputs": [
    {
     "name": "stdout",
     "output_type": "stream",
     "text": [
      "\u001b[92mGPU AVAILABLE\n",
      "\u001b[0m\u001b[92mModel Pruned using GlobalMagWeight strategy\n",
      "\u001b[0m\u001b[92mGPU AVAILABLE\n",
      "\u001b[0m\u001b[92mGPU AVAILABLE\n",
      "\u001b[0m\u001b[92mModel Pruned using GlobalMagWeight strategy\n",
      "\u001b[0m\u001b[92mGPU AVAILABLE\n",
      "\u001b[0m\u001b[92mGPU AVAILABLE\n",
      "\u001b[0m\u001b[92mModel Pruned using GlobalMagWeight strategy\n",
      "\u001b[0m\u001b[92mGPU AVAILABLE\n",
      "\u001b[0m\u001b[92mGPU AVAILABLE\n",
      "\u001b[0m\u001b[92mModel Pruned using GlobalMagWeight strategy\n",
      "\u001b[0m\u001b[92mGPU AVAILABLE\n",
      "\u001b[0m\u001b[92mGPU AVAILABLE\n",
      "\u001b[0m\u001b[92mModel Pruned using GlobalMagWeight strategy\n",
      "\u001b[0m\u001b[92mGPU AVAILABLE\n",
      "\u001b[0m\u001b[92mGPU AVAILABLE\n",
      "\u001b[0m\u001b[92mModel Pruned using GlobalMagWeight strategy\n",
      "\u001b[0m\u001b[92mGPU AVAILABLE\n",
      "\u001b[0m\u001b[92mGPU AVAILABLE\n",
      "\u001b[0m\u001b[92mModel Pruned using GlobalMagWeight strategy\n",
      "\u001b[0m\u001b[92mGPU AVAILABLE\n",
      "\u001b[0m\u001b[92mGPU AVAILABLE\n",
      "\u001b[0m\u001b[92mModel Pruned using GlobalMagWeight strategy\n",
      "\u001b[0m\u001b[92mGPU AVAILABLE\n",
      "\u001b[0m\u001b[92mGPU AVAILABLE\n",
      "\u001b[0m\u001b[92mModel Pruned using GlobalMagWeight strategy\n",
      "\u001b[0m\u001b[92mGPU AVAILABLE\n",
      "\u001b[0m\u001b[92mGPU AVAILABLE\n",
      "\u001b[0m\u001b[92mModel Pruned using GlobalMagWeight strategy\n",
      "\u001b[0m\u001b[92mGPU AVAILABLE\n",
      "\u001b[0m\u001b[92mGPU AVAILABLE\n",
      "\u001b[0m\u001b[92mModel Pruned using GlobalMagWeight strategy\n",
      "\u001b[0m\u001b[92mGPU AVAILABLE\n",
      "\u001b[0m\u001b[92mGPU AVAILABLE\n",
      "\u001b[0m\u001b[92mModel Pruned using GlobalMagWeight strategy\n",
      "\u001b[0m\u001b[92mGPU AVAILABLE\n",
      "\u001b[0m\u001b[92mGPU AVAILABLE\n",
      "\u001b[0m\u001b[92mModel Pruned using GlobalMagWeight strategy\n",
      "\u001b[0m\u001b[92mGPU AVAILABLE\n",
      "\u001b[0m\u001b[92mGPU AVAILABLE\n",
      "\u001b[0m\u001b[92mModel Pruned using GlobalMagWeight strategy\n",
      "\u001b[0m\u001b[92mGPU AVAILABLE\n",
      "\u001b[0m\u001b[92mGPU AVAILABLE\n",
      "\u001b[0m\u001b[92mModel Pruned using GlobalMagWeight strategy\n",
      "\u001b[0m\u001b[92mGPU AVAILABLE\n",
      "\u001b[0m\u001b[92mGPU AVAILABLE\n",
      "\u001b[0m\u001b[92mModel Pruned using GlobalMagWeight strategy\n",
      "\u001b[0m\u001b[92mGPU AVAILABLE\n",
      "\u001b[0m\u001b[92mGPU AVAILABLE\n",
      "\u001b[0m\u001b[92mModel Pruned using GlobalMagWeight strategy\n",
      "\u001b[0m\u001b[92mGPU AVAILABLE\n",
      "\u001b[0m\u001b[92mGPU AVAILABLE\n",
      "\u001b[0m\u001b[92mModel Pruned using GlobalMagWeight strategy\n",
      "\u001b[0m\u001b[92mGPU AVAILABLE\n",
      "\u001b[0m\u001b[92mGPU AVAILABLE\n",
      "\u001b[0m\u001b[92mModel Pruned using GlobalMagWeight strategy\n",
      "\u001b[0m\u001b[92mGPU AVAILABLE\n",
      "\u001b[0m\u001b[92mGPU AVAILABLE\n",
      "\u001b[0m\u001b[92mModel Pruned using GlobalMagWeight strategy\n",
      "\u001b[0m\u001b[92mGPU AVAILABLE\n",
      "\u001b[0m\u001b[92mGPU AVAILABLE\n",
      "\u001b[0m\u001b[92mModel Pruned using GlobalMagWeight strategy\n",
      "\u001b[0m\u001b[92mGPU AVAILABLE\n",
      "\u001b[0m\u001b[92mGPU AVAILABLE\n",
      "\u001b[0m\u001b[92mModel Pruned using GlobalMagWeight strategy\n",
      "\u001b[0m\u001b[92mGPU AVAILABLE\n",
      "\u001b[0m\u001b[92mGPU AVAILABLE\n",
      "\u001b[0m\u001b[92mModel Pruned using GlobalMagWeight strategy\n",
      "\u001b[0m\u001b[92mGPU AVAILABLE\n",
      "\u001b[0m\u001b[92mGPU AVAILABLE\n",
      "\u001b[0m\u001b[92mModel Pruned using GlobalMagWeight strategy\n",
      "\u001b[0m\u001b[92mGPU AVAILABLE\n",
      "\u001b[0m\u001b[92mGPU AVAILABLE\n",
      "\u001b[0m\u001b[92mModel Pruned using GlobalMagWeight strategy\n",
      "\u001b[0m\u001b[92mGPU AVAILABLE\n",
      "\u001b[0m\u001b[92mGPU AVAILABLE\n",
      "\u001b[0m\u001b[92mModel Pruned using GlobalMagWeight strategy\n",
      "\u001b[0m\u001b[92mGPU AVAILABLE\n",
      "\u001b[0m\u001b[92mGPU AVAILABLE\n",
      "\u001b[0m\u001b[92mModel Pruned using GlobalMagWeight strategy\n",
      "\u001b[0m\u001b[92mGPU AVAILABLE\n",
      "\u001b[0m\u001b[92mGPU AVAILABLE\n",
      "\u001b[0m\u001b[92mModel Pruned using GlobalMagWeight strategy\n",
      "\u001b[0m\u001b[92mGPU AVAILABLE\n",
      "\u001b[0m\u001b[92mGPU AVAILABLE\n",
      "\u001b[0m\u001b[92mModel Pruned using GlobalMagWeight strategy\n",
      "\u001b[0m\u001b[92mGPU AVAILABLE\n",
      "\u001b[0m\u001b[92mGPU AVAILABLE\n",
      "\u001b[0m\u001b[92mModel Pruned using GlobalMagWeight strategy\n",
      "\u001b[0m\u001b[92mGPU AVAILABLE\n",
      "\u001b[0m\u001b[92mGPU AVAILABLE\n",
      "\u001b[0m\u001b[92mModel Pruned using GlobalMagWeight strategy\n",
      "\u001b[0m\u001b[92mGPU AVAILABLE\n",
      "\u001b[0m\u001b[92mGPU AVAILABLE\n",
      "\u001b[0m\u001b[92mModel Pruned using GlobalMagWeight strategy\n",
      "\u001b[0m\u001b[92mGPU AVAILABLE\n",
      "\u001b[0m\u001b[92mGPU AVAILABLE\n",
      "\u001b[0m\u001b[92mModel Pruned using GlobalMagWeight strategy\n",
      "\u001b[0m\u001b[92mGPU AVAILABLE\n",
      "\u001b[0m\u001b[92mGPU AVAILABLE\n",
      "\u001b[0m\u001b[92mModel Pruned using GlobalMagWeight strategy\n",
      "\u001b[0m\u001b[92mGPU AVAILABLE\n",
      "\u001b[0m\u001b[92mGPU AVAILABLE\n",
      "\u001b[0m\u001b[92mModel Pruned using GlobalMagWeight strategy\n",
      "\u001b[0m\u001b[92mGPU AVAILABLE\n",
      "\u001b[0m\u001b[92mGPU AVAILABLE\n",
      "\u001b[0m\u001b[92mModel Pruned using GlobalMagWeight strategy\n",
      "\u001b[0m\u001b[92mGPU AVAILABLE\n",
      "\u001b[0m\u001b[92mGPU AVAILABLE\n",
      "\u001b[0m\u001b[92mModel Pruned using GlobalMagWeight strategy\n",
      "\u001b[0m\u001b[92mGPU AVAILABLE\n",
      "\u001b[0m\u001b[92mGPU AVAILABLE\n",
      "\u001b[0m\u001b[92mModel Pruned using GlobalMagWeight strategy\n",
      "\u001b[0m\u001b[92mGPU AVAILABLE\n",
      "\u001b[0m\u001b[92mGPU AVAILABLE\n",
      "\u001b[0m\u001b[92mModel Pruned using GlobalMagWeight strategy\n",
      "\u001b[0m\u001b[92mGPU AVAILABLE\n",
      "\u001b[0m\u001b[92mGPU AVAILABLE\n",
      "\u001b[0m\u001b[92mModel Pruned using GlobalMagWeight strategy\n",
      "\u001b[0m\u001b[92mGPU AVAILABLE\n",
      "\u001b[0m\u001b[92mGPU AVAILABLE\n",
      "\u001b[0m\u001b[92mModel Pruned using GlobalMagWeight strategy\n",
      "\u001b[0m\u001b[92mGPU AVAILABLE\n",
      "\u001b[0m\u001b[92mGPU AVAILABLE\n",
      "\u001b[0m\u001b[92mModel Pruned using GlobalMagWeight strategy\n",
      "\u001b[0m\u001b[92mGPU AVAILABLE\n",
      "\u001b[0m\u001b[92mGPU AVAILABLE\n",
      "\u001b[0m\u001b[92mModel Pruned using GlobalMagWeight strategy\n",
      "\u001b[0m\u001b[92mGPU AVAILABLE\n",
      "\u001b[0m\u001b[92mGPU AVAILABLE\n",
      "\u001b[0m\u001b[92mModel Pruned using GlobalMagWeight strategy\n",
      "\u001b[0m\u001b[92mGPU AVAILABLE\n",
      "\u001b[0m\u001b[92mGPU AVAILABLE\n",
      "\u001b[0m\u001b[92mModel Pruned using GlobalMagWeight strategy\n",
      "\u001b[0m\u001b[92mGPU AVAILABLE\n",
      "\u001b[0m\u001b[92mGPU AVAILABLE\n",
      "\u001b[0m\u001b[92mModel Pruned using GlobalMagWeight strategy\n",
      "\u001b[0m\u001b[92mGPU AVAILABLE\n",
      "\u001b[0m\u001b[92mGPU AVAILABLE\n",
      "\u001b[0m\u001b[92mModel Pruned using GlobalMagWeight strategy\n",
      "\u001b[0m\u001b[92mGPU AVAILABLE\n",
      "\u001b[0m\u001b[92mGPU AVAILABLE\n",
      "\u001b[0m\u001b[92mModel Pruned using GlobalMagWeight strategy\n",
      "\u001b[0m\u001b[92mGPU AVAILABLE\n",
      "\u001b[0m\u001b[92mGPU AVAILABLE\n",
      "\u001b[0m\u001b[92mModel Pruned using GlobalMagWeight strategy\n",
      "\u001b[0m\u001b[92mGPU AVAILABLE\n",
      "\u001b[0m\u001b[92mGPU AVAILABLE\n",
      "\u001b[0m\u001b[92mModel Pruned using GlobalMagWeight strategy\n",
      "\u001b[0m\u001b[92mGPU AVAILABLE\n",
      "\u001b[0m\u001b[92mGPU AVAILABLE\n",
      "\u001b[0m\u001b[92mModel Pruned using GlobalMagWeight strategy\n",
      "\u001b[0m\u001b[92mGPU AVAILABLE\n",
      "\u001b[0m\u001b[92mGPU AVAILABLE\n",
      "\u001b[0m\u001b[92mModel Pruned using GlobalMagWeight strategy\n",
      "\u001b[0m\u001b[92mGPU AVAILABLE\n",
      "\u001b[0m\u001b[92mGPU AVAILABLE\n",
      "\u001b[0m\u001b[92mModel Pruned using GlobalMagWeight strategy\n",
      "\u001b[0m\u001b[92mGPU AVAILABLE\n",
      "\u001b[0m\u001b[92mGPU AVAILABLE\n",
      "\u001b[0m\u001b[92mModel Pruned using GlobalMagWeight strategy\n",
      "\u001b[0m\u001b[92mGPU AVAILABLE\n",
      "\u001b[0m\u001b[92mGPU AVAILABLE\n",
      "\u001b[0m\u001b[92mModel Pruned using GlobalMagWeight strategy\n",
      "\u001b[0m\u001b[92mGPU AVAILABLE\n",
      "\u001b[0m\u001b[92mGPU AVAILABLE\n",
      "\u001b[0m\u001b[92mModel Pruned using GlobalMagWeight strategy\n",
      "\u001b[0m\u001b[92mGPU AVAILABLE\n",
      "\u001b[0m\u001b[92mGPU AVAILABLE\n",
      "\u001b[0m\u001b[92mModel Pruned using GlobalMagWeight strategy\n",
      "\u001b[0m\u001b[92mGPU AVAILABLE\n",
      "\u001b[0m\u001b[92mGPU AVAILABLE\n",
      "\u001b[0m\u001b[92mModel Pruned using GlobalMagWeight strategy\n",
      "\u001b[0m\u001b[92mGPU AVAILABLE\n",
      "\u001b[0m\u001b[92mGPU AVAILABLE\n",
      "\u001b[0m\u001b[92mModel Pruned using GlobalMagWeight strategy\n",
      "\u001b[0m\u001b[92mGPU AVAILABLE\n",
      "\u001b[0m\u001b[92mGPU AVAILABLE\n",
      "\u001b[0m\u001b[92mModel Pruned using GlobalMagWeight strategy\n",
      "\u001b[0m\u001b[92mGPU AVAILABLE\n",
      "\u001b[0m"
     ]
    }
   ],
   "source": [
    "paths = {}\n",
    "\n",
    "for c in compression_rates:\n",
    "    temp_path = torch.zeros((len(models), 10))\n",
    "    for m in range(len(models)):\n",
    "        load_model(exp, model=m, compression=c, stg=\"pruning\")\n",
    "        prev_paths = None\n",
    "        prev_layer = None\n",
    "        for layer in exp.model.modules():\n",
    "            cur_path = []\n",
    "            if isConv(layer):\n",
    "                weights = list(layer.named_parameters())[0][1]\n",
    "                cur_path = cal_conv_paths(prev_paths, weights)\n",
    "                prev_layer = layer\n",
    "                prev_paths = cur_path\n",
    "            elif isLinear(layer):\n",
    "                weights = list(layer.named_parameters())[0][1]\n",
    "                if isConv(prev_layer):\n",
    "                    prev_paths = expend_paths(prev_paths, weights)\n",
    "                cur_paths = cal_linear_paths(prev_paths, weights, threshold = 0.05)\n",
    "                prev_layer = layer\n",
    "                prev_paths = cur_paths\n",
    "        temp_path[m] = prev_paths\n",
    "    paths[c] = temp_path.mean(axis=0)"
   ]
  },
  {
   "cell_type": "code",
   "execution_count": 28,
   "id": "3e24cc45-e2ed-40a1-890d-7de1e1b21ff0",
   "metadata": {},
   "outputs": [
    {
     "data": {
      "text/plain": [
       "{4: tensor([5.3974e+08, 4.8603e+08, 5.6735e+08, 5.1308e+08, 5.1356e+08, 5.0415e+08,\n",
       "         5.1066e+08, 5.1698e+08, 5.4845e+08, 5.1596e+08]),\n",
       " 10: tensor([63012404., 60267160., 68059112., 61524268., 64610688., 61240948.,\n",
       "         63845932., 64671948., 66575064., 63008364.]),\n",
       " 20: tensor([8768037., 8787380., 9403558., 8869487., 9743979., 8604914., 9181232.,\n",
       "         9513632., 9515584., 9410458.]),\n",
       " 30: tensor([1581326.7500, 1628521.6250, 1708384.7500, 1604592.0000, 1692217.7500,\n",
       "         1586664.8750, 1705462.3750, 1697115.6250, 1707182.7500, 1700427.6250]),\n",
       " 40: tensor([292948.4062, 289895.4062, 311016.9062, 293997.1875, 307838.0938,\n",
       "         289748.3125, 293055.8125, 303750.9062, 306806.1875, 311254.6875]),\n",
       " 50: tensor([38796.8008, 39085.6992, 39099.3984, 41001.0000, 40149.8984, 38976.1016,\n",
       "         39557.3008, 40014.3984, 39496.5000, 40445.8008])}"
      ]
     },
     "execution_count": 28,
     "metadata": {},
     "output_type": "execute_result"
    }
   ],
   "source": [
    "paths"
   ]
  },
  {
   "cell_type": "code",
   "execution_count": 30,
   "id": "510ffef2-361c-4f8e-9d8d-c5cd9e90d860",
   "metadata": {},
   "outputs": [
    {
     "data": {
      "text/plain": [
       "<matplotlib.legend.Legend at 0x7f9898046880>"
      ]
     },
     "execution_count": 30,
     "metadata": {},
     "output_type": "execute_result"
    },
    {
     "data": {
      "image/png": "[encoded data removed]",
      "text/plain": [
       "<Figure size 432x288 with 1 Axes>"
      ]
     },
     "metadata": {
      "needs_background": "light"
     },
     "output_type": "display_data"
    }
   ],
   "source": [
    "plt.figure()\n",
    "classes = [i for i in range(10)]\n",
    "for key, value in paths.items():\n",
    "    ret = (value - value.mean()) / value\n",
    "    plt.plot(classes, ret.cpu().numpy(), label=key)\n",
    "plt.legend()\n",
    "#plt.yscale('log')"
   ]
  },
  {
   "cell_type": "code",
   "execution_count": null,
   "id": "c2031314-6dc6-435b-bb9e-668c39eed206",
   "metadata": {},
   "outputs": [],
   "source": []
  }
 ],
 "metadata": {
  "kernelspec": {
   "display_name": "Python 3 (ipykernel)",
   "language": "python",
   "name": "python3"
  },
  "language_info": {
   "codemirror_mode": {
    "name": "ipython",
    "version": 3
   },
   "file_extension": ".py",
   "mimetype": "text/x-python",
   "name": "python",
   "nbconvert_exporter": "python",
   "pygments_lexer": "ipython3",
   "version": "3.9.7"
  }
 },
 "nbformat": 4,
 "nbformat_minor": 5
}
