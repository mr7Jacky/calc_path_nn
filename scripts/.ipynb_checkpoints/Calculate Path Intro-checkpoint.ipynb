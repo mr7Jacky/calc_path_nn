{
 "cells": [
  {
   "cell_type": "markdown",
   "id": "3f340123-9870-4368-a787-8c74584b1e72",
   "metadata": {
    "tags": []
   },
   "source": [
    "## Load the model"
   ]
  },
  {
   "cell_type": "code",
   "execution_count": null,
   "id": "615b10bd",
   "metadata": {},
   "outputs": [],
   "source": [
    "from shrinkbench.experiment import PruningExperiment, PruningClass\n",
    "import torch\n",
    "import os"
   ]
  },
  {
   "cell_type": "code",
   "execution_count": null,
   "id": "d1b00629",
   "metadata": {},
   "outputs": [],
   "source": [
    "os.environ['ShrinkPATH'] = './shrinkbench'\n",
    "os.environ['DATAPATH'] = './shrinkbench/Training_data'\n",
    "# ShrinkPATH is the path from the directory this file is located to the shrinkbench code\n",
    "# DATAPATH is the path from the current directory to where the datasets are located\n",
    "# The only think you might need to change is 'shrinkbench' to whatever the name of the file is that \n",
    "# contains the shrinkbench code"
   ]
  },
  {
   "cell_type": "code",
   "execution_count": null,
   "id": "e9924ced",
   "metadata": {},
   "outputs": [],
   "source": [
    "compressions = [4, 10, 20, 30, 40, 50]\n",
    "strategies = [\"GlobalMagWeight\"]\n",
    "# These are the compression ratios"
   ]
  },
  {
   "cell_type": "markdown",
   "id": "f8d6a0b3",
   "metadata": {},
   "source": [
    "This main block of code below should be rerun any time you switch between datasets and architectures. Otherwise does not need to be rerun."
   ]
  },
  {
   "cell_type": "code",
   "execution_count": null,
   "id": "805c5cf4",
   "metadata": {},
   "outputs": [
    {
     "name": "stdout",
     "output_type": "stream",
     "text": [
      "\u001b[92mGPU AVAILABLE\n",
      "\u001b[0m\u001b[92mGPU AVAILABLE\n",
      "\u001b[0m\u001b[95mLogging results to results/20220201-090040-OLGE-LeNet\n",
      "\u001b[0m"
     ]
    },
    {
     "name": "stderr",
     "output_type": "stream",
     "text": [
      "Val -1/30: 100%|███████████████████████████████████| 79/79 [00:03<00:00, 23.04it/s, loss=0.018, top1=0.0842, top5=0.499]"
     ]
    },
    {
     "name": "stdout",
     "output_type": "stream",
     "text": [
      "[('weight', Parameter containing:\n",
      "tensor([[[[ 0.1397, -0.2448, -0.1956],\n",
      "          [-0.0542,  0.1293,  0.2296],\n",
      "          [ 0.1355, -0.1561, -0.0236]]],\n",
      "\n",
      "\n",
      "        [[[-0.0630, -0.0294, -0.2096],\n",
      "          [ 0.0294,  0.2760,  0.0779],\n",
      "          [-0.1882,  0.3065,  0.2412]]],\n",
      "\n",
      "\n",
      "        [[[ 0.3136,  0.2636, -0.2426],\n",
      "          [ 0.0542, -0.0632, -0.3189],\n",
      "          [-0.0443, -0.2858,  0.2214]]],\n",
      "\n",
      "\n",
      "        [[[ 0.1770,  0.2044,  0.0023],\n",
      "          [ 0.1306, -0.1651, -0.1959],\n",
      "          [ 0.2933,  0.2913, -0.1921]]],\n",
      "\n",
      "\n",
      "        [[[ 0.2302,  0.1630, -0.0019],\n",
      "          [-0.0540, -0.1960,  0.0521],\n",
      "          [-0.2891,  0.2075, -0.0525]]],\n",
      "\n",
      "\n",
      "        [[[ 0.0018,  0.0223, -0.1225],\n",
      "          [-0.0618, -0.1336,  0.1489],\n",
      "          [ 0.0778, -0.2231, -0.2564]]]], device='cuda:0', requires_grad=True)), ('bias', Parameter containing:\n",
      "tensor([-0.3006, -0.0160, -0.1990,  0.2503, -0.0277,  0.3086], device='cuda:0',\n",
      "       requires_grad=True))]\n"
     ]
    },
    {
     "name": "stderr",
     "output_type": "stream",
     "text": [
      "\n"
     ]
    }
   ],
   "source": [
    "# This is the overarching object that is interacted with. \n",
    "exp = PruningClass(dataset='QMNIST', # Change this to 'Fashion', 'CIFAR10', or 'CIFAR100' \n",
    "                model='LeNet',  # LeNetChange this to 'resnet56' for CIFAR10, or 'resnet56_C' for CIFAR100\n",
    "                train_kwargs={\n",
    "                    'optim': 'SGD',\n",
    "                    'epochs': 30,\n",
    "                    'lr': 1e-2},\n",
    "                dl_kwargs={'batch_size':128},\n",
    "                save_freq=1)\n",
    "exp.run_init()  # Sets up some stuff, can ignore output\n",
    "print(list(exp.model.conv1.named_parameters())) # List weights of first layer in LeNet"
   ]
  },
  {
   "cell_type": "markdown",
   "id": "ede172b2",
   "metadata": {},
   "source": [
    "Load a trained model before prune/finetune.\n",
    "\n",
    "This is specific for qmnist, but the naming scheme is the same for the other models<br>\n",
    "example file: qmnist3.pt <br>\n",
    "'qmnist' is the dataset the model is for<br>\n",
    "'3' is the model number (0-9)<br>\n",
    "When passing the name to the load_model() function, do not include the .pt at the end"
   ]
  },
  {
   "cell_type": "code",
   "execution_count": null,
   "id": "78dd9e7b",
   "metadata": {},
   "outputs": [
    {
     "name": "stdout",
     "output_type": "stream",
     "text": [
      "\u001b[92mGPU AVAILABLE\n",
      "\u001b[0m[('weight', Parameter containing:\n",
      "tensor([[[[-0.3878, -0.3219, -0.2951],\n",
      "          [ 0.1081,  0.0065,  0.2044],\n",
      "          [-0.3937, -0.3368, -0.1223]]],\n",
      "\n",
      "\n",
      "        [[[ 0.8501,  0.4977,  0.8209],\n",
      "          [-0.1642, -0.0482, -0.2074],\n",
      "          [-0.8127, -0.4852, -0.4717]]],\n",
      "\n",
      "\n",
      "        [[[ 0.4350,  0.5906, -0.2358],\n",
      "          [ 0.6677, -0.2312, -0.5057],\n",
      "          [ 0.0036, -0.4088, -0.2914]]],\n",
      "\n",
      "\n",
      "        [[[-0.2262,  0.1376,  0.2873],\n",
      "          [ 0.3484,  0.9641,  0.9536],\n",
      "          [ 0.4806,  0.9537,  0.9556]]],\n",
      "\n",
      "\n",
      "        [[[ 0.3661,  0.3191, -0.3480],\n",
      "          [-0.2950, -0.1044,  0.0255],\n",
      "          [-0.2242, -0.2711,  0.1878]]],\n",
      "\n",
      "\n",
      "        [[[ 0.0548,  0.2241,  0.3392],\n",
      "          [-0.4242,  0.1320,  0.2449],\n",
      "          [-0.6496, -0.2265,  0.6873]]]], device='cuda:0', requires_grad=True)), ('bias', Parameter containing:\n",
      "tensor([ 0.3525,  0.1758, -0.1078,  0.5580, -0.1937,  0.0264], device='cuda:0',\n",
      "       requires_grad=True))]\n"
     ]
    }
   ],
   "source": [
    "checkpoint = exp.load_model(\"qmnist1\")\n",
    "exp.build_model(\"LeNet\") # Change this when going between different model architectures. \n",
    "exp.to_device()\n",
    "exp.model.load_state_dict(checkpoint['model_state_dict'])\n",
    "exp.optim.load_state_dict(checkpoint['optim_state_dict'])\n",
    "print(list(exp.model.conv1.named_parameters())) # List weights of first layer in LeNet"
   ]
  },
  {
   "cell_type": "markdown",
   "id": "a31afe80",
   "metadata": {},
   "source": [
    "Load a pruned/finetuned model.\n",
    "\n",
    "This is specific for qmnist, but the naming scheme is the same for the other models<br>\n",
    "example file: qmnist3.c30.pt <br>\n",
    "'qmnist' is the dataset the model is for<br>\n",
    "'3' is the model number (0-9)<br>\n",
    "c is whether it is after pruning or after finetuning. c for pruning and f for finetuning. <br>\n",
    "30 is what the compression ratio is. Can be 4, 10, 20, 30, 40, 50 for the CIFAR ones, or 4, 10, 20, 30, 40, 50 for <br>\n",
    "the QMNIST/Fashion ones <br>\n",
    "When passing the name to the load_model() function, do not include the .pt at the end"
   ]
  },
  {
   "cell_type": "code",
   "execution_count": null,
   "id": "6a58afa3",
   "metadata": {},
   "outputs": [
    {
     "name": "stdout",
     "output_type": "stream",
     "text": [
      "\u001b[92mGPU AVAILABLE\n",
      "\u001b[0m\u001b[92mModel Pruned using GlobalMagWeight strategy\n",
      "\u001b[0m\u001b[92mGPU AVAILABLE\n",
      "\u001b[0m[('weight', Parameter containing:\n",
      "tensor([[[[-0.4261, -0.3670, -0.3651],\n",
      "          [ 0.0000,  0.0000,  0.1755],\n",
      "          [-0.4350, -0.3564, -0.0000]]],\n",
      "\n",
      "\n",
      "        [[[ 1.1285,  0.8205,  1.1275],\n",
      "          [-0.0000, -0.0000, -0.0000],\n",
      "          [-1.0843, -0.8787, -0.7332]]],\n",
      "\n",
      "\n",
      "        [[[ 0.6368,  0.7240, -0.3085],\n",
      "          [ 0.8393, -0.3091, -0.6965],\n",
      "          [ 0.0000, -0.5965, -0.3884]]],\n",
      "\n",
      "\n",
      "        [[[-0.0000,  0.1981,  0.4300],\n",
      "          [ 0.5450,  1.1346,  1.2012],\n",
      "          [ 0.7503,  1.2435,  1.3005]]],\n",
      "\n",
      "\n",
      "        [[[ 0.4447,  0.3670, -0.3518],\n",
      "          [-0.3388, -0.0000,  0.0000],\n",
      "          [-0.2564, -0.2722,  0.2224]]],\n",
      "\n",
      "\n",
      "        [[[ 0.0000,  0.4361,  0.4987],\n",
      "          [-0.6122,  0.1791,  0.5199],\n",
      "          [-0.9072, -0.3447,  0.9279]]]], device='cuda:0', requires_grad=True)), ('bias', Parameter containing:\n",
      "tensor([0.4347, 0.0000, 0.0000, 0.8149, -0.0000, 0.0000], device='cuda:0',\n",
      "       requires_grad=True))]\n"
     ]
    }
   ],
   "source": [
    "checkpoint = exp.load_model(\"qmnist3.c30\")\n",
    "exp.build_model(\"LeNet\") # Change this when going between different model architectures.\n",
    "exp.to_device()\n",
    "\n",
    "exp.compression = 30\n",
    "exp.strategy = \"GlobalMagWeight\"\n",
    "exp.prune()\n",
    "exp.to_device()\n",
    "exp.model.load_state_dict(checkpoint['model_state_dict'])\n",
    "exp.optim.load_state_dict(checkpoint['optim_state_dict'])\n",
    "print(list(exp.model.conv1.named_parameters())) # List weights of first layer in LeNet"
   ]
  },
  {
   "cell_type": "markdown",
   "id": "ca7e9075-2b33-4b90-aee7-39987f71a09b",
   "metadata": {},
   "source": [
    "`name_parameters()` returns weights at 0 and biases at 1. Here we only need weights"
   ]
  },
  {
   "cell_type": "markdown",
   "id": "68c6a9c2-a518-4744-9ac6-40ec3a6526ff",
   "metadata": {},
   "source": [
    "Output shape formula\n",
    "```\n",
    "[(W−K+2P)/S]+1.\n",
    "```\n",
    "* W is the input volume - in your case 128\n",
    "* K is the Kernel size - in your case 5\n",
    "* P is the padding - in your case 0 i believe\n",
    "* S is the stride - which you have not provided."
   ]
  },
  {
   "cell_type": "markdown",
   "id": "347deb98-14a3-4ca6-9138-c4384f7d3480",
   "metadata": {},
   "source": [
    "## Calculate paths in linear neural network"
   ]
  },
  {
   "cell_type": "markdown",
   "id": "6864d265-cb3b-40c7-ad4c-937d60c1f7ca",
   "metadata": {},
   "source": [
    "#### For calculate each layer\n",
    "This method contains two parameters:\n",
    "* Weights contains all the wights for all nodes at current layer, e.g. \n",
    "```python\n",
    "[[1,0,2,1],\n",
    " [1,1,0,0]]\n",
    "```\n",
    "* Previous path contains the number of path to previous layer of all nodes, e.g. \n",
    "```python\n",
    "[[1,5,2,8]]\n",
    "```\n",
    "\n",
    "The output for the example above would be `[11, 6]`, which is the number of paths for the input of the next layer.\n",
    "\n",
    "Note that the calculation start from the second layer, the path to the first layer is initialized to ones'array with the same "
   ]
  },
  {
   "cell_type": "code",
   "execution_count": null,
   "id": "0236bf98-702c-4c87-9968-cf85d1c36790",
   "metadata": {},
   "outputs": [],
   "source": [
    "def cal_linear_layer_paths(prev_paths, weights, threshold=None):\n",
    "    next_path = torch.tile(prev_paths, (weights.size()[0],)).reshape(weights.size())\n",
    "    if threshold == None:\n",
    "        next_path[weights == 0] = 0\n",
    "    else:\n",
    "        next_path[weights.abs() <= threshold] = 0\n",
    "    next_path = next_path.sum(axis=-1)\n",
    "    return next_path"
   ]
  },
  {
   "cell_type": "markdown",
   "id": "15f02da2-5e93-40f1-8e65-7d485f7c50bc",
   "metadata": {},
   "source": [
    "![pic](src/linear_model.jpg)\n",
    "For the above simple model we can calculate the path as follows:"
   ]
  },
  {
   "cell_type": "code",
   "execution_count": null,
   "id": "b81f780a-0dd2-4a75-869d-4e7d1e519bd1",
   "metadata": {},
   "outputs": [
    {
     "data": {
      "text/plain": [
       "tensor([3, 2])"
      ]
     },
     "execution_count": 7,
     "metadata": {},
     "output_type": "execute_result"
    }
   ],
   "source": [
    "prev_paths = torch.tensor([1,1,1,1])\n",
    "weights = torch.tensor([[1,0,2,1], [1,1,0,0]])\n",
    "prev_paths = cal_linear_layer_paths(prev_paths, weights)\n",
    "prev_paths"
   ]
  },
  {
   "cell_type": "code",
   "execution_count": null,
   "id": "69d9004f-bacb-4a6e-9994-2dffd04c84d0",
   "metadata": {},
   "outputs": [
    {
     "name": "stdout",
     "output_type": "stream",
     "text": [
      "torch.Size([3])\n"
     ]
    },
    {
     "data": {
      "text/plain": [
       "tensor([3, 0, 5])"
      ]
     },
     "execution_count": 22,
     "metadata": {},
     "output_type": "execute_result"
    }
   ],
   "source": [
    "weights = torch.tensor([[2,0], [0,0], [1,1]])\n",
    "prev_paths = cal_linear_layer_paths(prev_paths, weights)\n",
    "prev_paths"
   ]
  },
  {
   "cell_type": "code",
   "execution_count": null,
   "id": "4ab93711-9f7a-4d68-a363-d6887bb95d02",
   "metadata": {},
   "outputs": [
    {
     "name": "stdout",
     "output_type": "stream",
     "text": [
      "torch.Size([2])\n"
     ]
    },
    {
     "data": {
      "text/plain": [
       "tensor([8, 5])"
      ]
     },
     "execution_count": 23,
     "metadata": {},
     "output_type": "execute_result"
    }
   ],
   "source": [
    "weights = torch.tensor([[1,2,1], [0,0,1]])\n",
    "prev_paths = cal_linear_layer_paths(prev_paths, weights)\n",
    "prev_paths"
   ]
  },
  {
   "cell_type": "markdown",
   "id": "b93f1189-94a2-4ca3-b5e9-27b6900ec7f3",
   "metadata": {
    "tags": []
   },
   "source": [
    "## Calculate paths in linear neural network"
   ]
  },
  {
   "cell_type": "markdown",
   "id": "925ecfcd-7375-4ec6-a6e6-e9c9faeea16f",
   "metadata": {},
   "source": [
    "#### For calculate each layer\n",
    "This method contains two parameters:\n",
    "* Weights contains all the wights for all nodes at current layer, e.g. \n",
    "```python\n",
    "weights = [[[1,0,1],\n",
    "            [2,3,0],\n",
    "            [2,0,0]],\n",
    "           [[1,0,1],\n",
    "            [2,3,1],\n",
    "            [0,1,1]]]\n",
    "```\n",
    "* Previous path contains the number of path to previous layer of all nodes, e.g. \n",
    "```python\n",
    "prev_paths = [2,1,1]\n",
    "```\n",
    "\n",
    "The calculation contains 3 steps:\n",
    "* calculate paths of current layer per channel, e.g. `[5,7]`\n",
    "* calculate the sum of all paths connect to current layer, e.g. `[4]`\n",
    "* assume fully connected, multiply the sum with paths in each channel in currently layer, e.g. `[20, 28]`\n",
    "\n",
    "The output for the example above would be `[20, 28]`, which is the number of paths for the input of the next layer.\n",
    "\n",
    "Note that the calculation start from the second layer, the path to the first layer is initialized to ones'array with the same "
   ]
  },
  {
   "cell_type": "code",
   "execution_count": 24,
   "id": "2f862c3b-27fb-4d55-898d-419d13e9e530",
   "metadata": {},
   "outputs": [],
   "source": [
    "weights = torch.tensor([[[1,0,1],\n",
    "            [2,3,0],\n",
    "            [2,0,0]],\n",
    "           [[1,0,1],\n",
    "            [2,3,1],\n",
    "            [0,1,1]]])\n",
    "prev_paths = torch.tensor([2,1,1])"
   ]
  },
  {
   "cell_type": "code",
   "execution_count": null,
   "id": "b0c82f40-73f2-4388-9746-59ea6cb62125",
   "metadata": {},
   "outputs": [],
   "source": [
    "def cal_conv_layer_paths(prev_paths, weights):\n",
    "    # Calculate paths at current layer\n",
    "    cur_path = weights.reshape(len(weights),-1)\n",
    "    cur_path = (cur_path != 0).sum(axis=-1)\n",
    "    # Calculate sum of all previous paths\n",
    "    if prev_paths == None:\n",
    "        total_prev_paths = 1\n",
    "    else: \n",
    "        total_prev_paths = prev_paths.sum()\n",
    "    # Calculate next paths\n",
    "    next_path = cur_path * total_prev_paths\n",
    "    return next_path"
   ]
  },
  {
   "cell_type": "code",
   "execution_count": null,
   "id": "e9581715-d4c0-4f2d-b3c4-ed54cda0ba67",
   "metadata": {},
   "outputs": [
    {
     "data": {
      "text/plain": [
       "tensor([15, 10])"
      ]
     },
     "execution_count": 8,
     "metadata": {},
     "output_type": "execute_result"
    }
   ],
   "source": [
    "cal_conv_layer_paths(prev_paths, weights)"
   ]
  },
  {
   "cell_type": "markdown",
   "id": "5d49ae74-2516-4160-a69e-04c846dca057",
   "metadata": {},
   "source": [
    "## Expand paths counted from convolutional layer to linear layer"
   ]
  },
  {
   "cell_type": "code",
   "execution_count": null,
   "id": "7668d113-d057-4daa-bf0c-23ce3c7bbbb7",
   "metadata": {},
   "outputs": [],
   "source": [
    "def expend_paths(prev_paths, weights):\n",
    "    device = torch.device('cuda:0' if torch.cuda.is_available() else 'cpu')\n",
    "    in_shape = weights.shape[-1]\n",
    "    path_mat = torch.zeros((in_shape // len(prev_paths) , len(prev_paths))).to(device)\n",
    "    path_mat[:,:] = prev_paths\n",
    "    return path_mat.T.flatten()"
   ]
  },
  {
   "cell_type": "code",
   "execution_count": null,
   "id": "cb42416d-b2f7-405c-aa27-21627ea1a608",
   "metadata": {},
   "outputs": [
    {
     "data": {
      "text/plain": [
       "tensor([ 1, 23,  3])"
      ]
     },
     "execution_count": 42,
     "metadata": {},
     "output_type": "execute_result"
    }
   ],
   "source": [
    "k = torch.tensor([1,23,-3])\n",
    "k.abs()"
   ]
  },
  {
   "cell_type": "markdown",
   "id": "83c3fddf-1090-415d-8a0d-83ed0018e484",
   "metadata": {
    "tags": []
   },
   "source": [
    "## Calculate actual paths"
   ]
  },
  {
   "cell_type": "code",
   "execution_count": 43,
   "id": "c164191f-57fa-4e57-b672-10e2734e32cb",
   "metadata": {},
   "outputs": [],
   "source": [
    "import re"
   ]
  },
  {
   "cell_type": "code",
   "execution_count": 44,
   "id": "dfbf26d5-c8d6-4a0c-bbcf-579fb60b8ee6",
   "metadata": {},
   "outputs": [
    {
     "name": "stdout",
     "output_type": "stream",
     "text": [
      "LeNet(\n",
      "  (conv1): Conv2dMasked(1, 6, kernel_size=(3, 3), stride=(1, 1))\n",
      "  (conv2): Conv2dMasked(6, 16, kernel_size=(3, 3), stride=(1, 1))\n",
      "  (fc1): LinearMasked(in_features=400, out_features=120, bias=True)\n",
      "  (fc2): LinearMasked(in_features=120, out_features=84, bias=True)\n",
      "  (fc3): Linear(in_features=84, out_features=10, bias=True)\n",
      ")\n"
     ]
    }
   ],
   "source": [
    "print(exp.model)\n",
    "cuda0 = torch.device('cuda:0')"
   ]
  },
  {
   "cell_type": "code",
   "execution_count": 45,
   "id": "817d4b56-ae7a-45d8-8380-59fd06fba61f",
   "metadata": {},
   "outputs": [],
   "source": [
    "def isConv(layer):\n",
    "    c = str(type(layer)).lower()\n",
    "    return re.search(r'.conv*', c) != None\n",
    "def isLinear(layer):\n",
    "    c = str(type(layer)).lower()\n",
    "    return re.search(r'.linear*', c) != None"
   ]
  },
  {
   "cell_type": "code",
   "execution_count": 46,
   "id": "968098a6-38a5-4ef8-bb15-14f084a17fa8",
   "metadata": {},
   "outputs": [],
   "source": [
    "inp = torch.randn(100, 1, 28, 28).to(cuda0)\n",
    "prev_paths = None\n",
    "prev_layer = None\n",
    "for layer in exp.model.modules():\n",
    "    cur_path = []\n",
    "    if isConv(layer):\n",
    "        weights = list(layer.named_parameters())[0][1]\n",
    "        cur_path = cal_conv_layer_paths(prev_paths, weights)\n",
    "        prev_layer = layer\n",
    "        prev_paths = cur_path\n",
    "    elif isLinear(layer):\n",
    "        weights = list(layer.named_parameters())[0][1]\n",
    "        if isConv(prev_layer):\n",
    "            prev_paths = expend_paths(prev_paths, weights)\n",
    "        cur_paths = cal_linear_layer_paths(prev_paths, weights, threshold = 0.2)\n",
    "        prev_layer = layer\n",
    "        prev_paths = cur_paths\n",
    "final = prev_paths"
   ]
  },
  {
   "cell_type": "code",
   "execution_count": 47,
   "id": "3e24cc45-e2ed-40a1-890d-7de1e1b21ff0",
   "metadata": {},
   "outputs": [
    {
     "data": {
      "text/plain": [
       "tensor([199606., 199778., 261999., 266170., 231641., 203906., 237188., 222783.,\n",
       "        326499., 295281.], device='cuda:0')"
      ]
     },
     "execution_count": 47,
     "metadata": {},
     "output_type": "execute_result"
    }
   ],
   "source": [
    "final"
   ]
  },
  {
   "cell_type": "markdown",
   "id": "7a866dd0-e39b-4c5c-aa2f-87a5c942f2b5",
   "metadata": {},
   "source": [
    "## Plot Paths"
   ]
  },
  {
   "cell_type": "code",
   "execution_count": 53,
   "id": "83b7c4cf-c986-4347-aa60-17fceb92bce0",
   "metadata": {},
   "outputs": [
    {
     "data": {
      "text/plain": [
       "[<matplotlib.lines.Line2D at 0x7f19301d7340>]"
      ]
     },
     "execution_count": 53,
     "metadata": {},
     "output_type": "execute_result"
    },
    {
     "data": {
      "image/png": "[encoded data removed]",
      "text/plain": [
       "<Figure size 432x288 with 1 Axes>"
      ]
     },
     "metadata": {
      "needs_background": "light"
     },
     "output_type": "display_data"
    }
   ],
   "source": [
    "import matplotlib.pyplot as plt\n",
    "plt.plot(final.cpu().numpy())"
   ]
  },
  {
   "cell_type": "code",
   "execution_count": null,
   "id": "7213123c-bc28-4982-a836-13e25a084087",
   "metadata": {},
   "outputs": [],
   "source": []
  }
 ],
 "metadata": {
  "kernelspec": {
   "display_name": "Python 3 (ipykernel)",
   "language": "python",
   "name": "python3"
  },
  "language_info": {
   "codemirror_mode": {
    "name": "ipython",
    "version": 3
   },
   "file_extension": ".py",
   "mimetype": "text/x-python",
   "name": "python",
   "nbconvert_exporter": "python",
   "pygments_lexer": "ipython3",
   "version": "3.9.7"
  }
 },
 "nbformat": 4,
 "nbformat_minor": 5
}
