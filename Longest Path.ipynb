{
 "cells": [
  {
   "cell_type": "markdown",
   "id": "3f340123-9870-4368-a787-8c74584b1e72",
   "metadata": {
    "tags": []
   },
   "source": [
    "## Load the model"
   ]
  },
  {
   "cell_type": "code",
   "execution_count": 30,
   "id": "615b10bd",
   "metadata": {},
   "outputs": [],
   "source": [
    "from shrinkbench.experiment import PruningExperiment, PruningClass\n",
    "import torch\n",
    "import os\n",
    "import matplotlib.pyplot as plt\n",
    "import numpy as np\n",
    "import pandas as pd\n",
    "from pathcal.calculator import *\n",
    "from pathcal.loader import *\n",
    "from pathcal.layers import *\n",
    "from pathcal.helper import *"
   ]
  },
  {
   "cell_type": "code",
   "execution_count": 15,
   "id": "78896d40-9d5e-42ff-ba54-33bf6232fe16",
   "metadata": {},
   "outputs": [
    {
     "data": {
      "text/plain": [
       "tensor([3, 2])"
      ]
     },
     "execution_count": 15,
     "metadata": {},
     "output_type": "execute_result"
    }
   ],
   "source": [
    "prev_paths = np.array([1,1,1,1])\n",
    "weights = np.array([[1,3,2,1], [2,3,1,1]])\n",
    "prev_paths = cal_linear_layer_paths(prev_paths, weights)\n",
    "prev_paths"
   ]
  },
  {
   "cell_type": "code",
   "execution_count": 16,
   "id": "76f741dd-43be-4ee6-9d43-30fed77c0162",
   "metadata": {},
   "outputs": [
    {
     "data": {
      "text/plain": [
       "tensor([3, 0, 3])"
      ]
     },
     "execution_count": 16,
     "metadata": {},
     "output_type": "execute_result"
    }
   ],
   "source": [
    "weights = np.array([[2,3], [2,1], [1,3]])\n",
    "prev_paths = cal_linear_layer_paths(prev_paths, weights)\n",
    "prev_paths"
   ]
  },
  {
   "cell_type": "code",
   "execution_count": null,
   "id": "6c5407ab-bb6f-4dcb-b667-3fea920802de",
   "metadata": {},
   "outputs": [
    {
     "name": "stdout",
     "output_type": "stream",
     "text": [
      "torch.Size([2])\n"
     ]
    },
    {
     "data": {
      "text/plain": [
       "tensor([8, 5])"
      ]
     },
     "execution_count": 23,
     "metadata": {},
     "output_type": "execute_result"
    }
   ],
   "source": [
    "weights = np.array([[1,2,1], [3,2,1]])\n",
    "prev_paths = cal_linear_layer_paths(prev_paths, weights)\n",
    "prev_paths"
   ]
  },
  {
   "cell_type": "code",
   "execution_count": null,
   "id": "ea5ef9a7-c778-43ce-b4a9-2a9d09150b20",
   "metadata": {},
   "outputs": [],
   "source": [
    "def cal_conv_layer_paths(weights):\n",
    "    # Calculate paths at current layer\n",
    "    cur_path = weights.reshape(len(weights),-1)\n",
    "    cur_path = (cur_path != 0).sum(axis=-1)\n",
    "    # Calculate sum of all previous paths\n",
    "    if prev_paths == None:\n",
    "        total_prev_paths = 1\n",
    "    else: \n",
    "        total_prev_paths = prev_paths.sum()\n",
    "    # Calculate next paths\n",
    "    next_path = cur_path * total_prev_paths\n",
    "    return next_path"
   ]
  },
  {
   "cell_type": "code",
   "execution_count": null,
   "id": "cef218dc-2564-4c1c-8520-0af215ed25ae",
   "metadata": {},
   "outputs": [
    {
     "data": {
      "text/plain": [
       "tensor([15, 10])"
      ]
     },
     "execution_count": 8,
     "metadata": {},
     "output_type": "execute_result"
    }
   ],
   "source": [
    "cal_conv_layer_paths(prev_paths, weights)"
   ]
  },
  {
   "cell_type": "code",
   "execution_count": null,
   "id": "937fd2b2-9748-4d67-ad83-c9006cbf887b",
   "metadata": {},
   "outputs": [],
   "source": []
  }
 ],
 "metadata": {
  "kernelspec": {
   "display_name": "Python 3 (ipykernel)",
   "language": "python",
   "name": "python3"
  },
  "language_info": {
   "codemirror_mode": {
    "name": "ipython",
    "version": 3
   },
   "file_extension": ".py",
   "mimetype": "text/x-python",
   "name": "python",
   "nbconvert_exporter": "python",
   "pygments_lexer": "ipython3",
   "version": "3.9.2"
  }
 },
 "nbformat": 4,
 "nbformat_minor": 5
}
